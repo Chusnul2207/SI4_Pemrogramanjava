{
 "cells": [
  {
   "cell_type": "markdown",
   "metadata": {},
   "source": [
    "### SOAL UAS\n",
    "1. Jawablah soal - soal dibawah ini pada baris yang sudah disediakan.\n",
    "2. Jawaban diunggah pada folder github masing - masing mahasiswa dijadikan satu dengan tugas - tugas sesudah UTS \n",
    "3. Dikumpulkan paling lambat 7 Juli 2020 Jam 24.00\n"
   ]
  },
  {
   "cell_type": "code",
   "execution_count": null,
   "metadata": {},
   "outputs": [],
   "source": [
    "Berikut ini adalah contoh pengkodean lambda : \n",
    "(Jika ada kekeliruan dalam syntax silahkan dibetulkan)"
   ]
  },
  {
   "cell_type": "markdown",
   "metadata": {},
   "source": [
    "``` javascript\n",
    "\n",
    "publik clas ContohLambda{\n",
    "\n",
    "    public static void main(){\n",
    "      ContohLambda obj = new ContohLambda();\n",
    "  \n",
    "      //dengan type declaration tanpa kurung kurawal\n",
    "      OperasiPerhitungan penjumlahan = (int a, int b) -> a + b;\n",
    "        \n",
    "       //dengan return statement dan dengan kurung kurawal\n",
    "      OperasiPerhitungan penjumlahan2 = (int a, int b) -> { return a + b; };\n",
    "  \n",
    "   \n",
    "  \n",
    "      system.out.println(\"10 + 5 = \" + obj.operate(10, 5, penjumlahan));\n",
    "      system.out.println(\"10 - 5 = \" + obj.operate(10, 5, penjumlahan2));\n",
    "  \n",
    "      //dengan parenthesis\n",
    "      msgService greetService1 = message -> system.out.println(\"Hello \" + message);\n",
    "  \n",
    "      //tanpa parenthesis\n",
    "      msgService greetService2 = (message) -> System.out.println(\"msg. \" + message);\n",
    "  \n",
    "      greetService1.sayMessage(\"Helloo\");\n",
    "      greetService2.sayMessage(\"Anonim..\");\n",
    "   }\n",
    " \n",
    "   private interface OperasiPerhitungan{\n",
    "      int operation(int a, int b);\n",
    "   }\n",
    " \n",
    "   private interface msgService{\n",
    "      void sayMessage(String message);\n",
    "   }\n",
    " \n",
    "   private int operate(int a, int b, OperasiPerhitungan op){\n",
    "      return op.operation(a, b);\n",
    "   }\n",
    "\n",
    "}\n",
    "\n",
    "``` "
   ]
  },
  {
   "cell_type": "code",
   "execution_count": null,
   "metadata": {},
   "outputs": [],
   "source": [
    "//Implementasi\n",
    "ContohLambda TestLambda = new ContohLambda()\n",
    "    \n",
    "TestLambda.main();"
   ]
  },
  {
   "cell_type": "markdown",
   "metadata": {},
   "source": [
    "### [Soal 1]\n",
    "\n",
    "Jelaskan mengenai ekspresi lambda dalam pemrograman java? Apa saja yang menjadi karakteristik dari ekspresi tersebut?\n",
    "*(nilai 30)*"
   ]
  },
  {
   "cell_type": "markdown",
   "metadata": {},
   "source": [
    "jawab :\n",
    "\n"
   ]
  },
  {
   "cell_type": "code",
   "execution_count": 2,
   "metadata": {},
   "outputs": [
    {
     "data": {
      "text/plain": [
       "com.twosigma.beaker.javash.bkr0f2d0fcb.ContohLambda"
      ]
     },
     "execution_count": 2,
     "metadata": {},
     "output_type": "execute_result"
    }
   ],
   "source": [
    "public class ContohLambda {\n",
    "\n",
    "   public static void main() {\n",
    "      ContohLambda obj = new ContohLambda();\n",
    "\n",
    "      //dengan type declaration tanpa kurung kurawal\n",
    "      operasiPerhitungan penjumlahan = (int a, int b) -> a + b;\n",
    "\n",
    "      //dengan return statement dan kurung kurawal\n",
    "      operasiPerhitungan pengurangan = (int a, int b) -> { return a - b; };\n",
    "\n",
    "      System.out.println(\"10 + 5 = \" + obj.operate(10, 5, penjumlahan));\n",
    "      System.out.println(\"10 - 5 = \" + obj.operate(10, 5, pengurangan));\n",
    "\n",
    "      //dengan parenthesis\n",
    "      msgService greetService1 = message -> System.out.println(\"Hello \" + message);\n",
    "\n",
    "      //tanpa parenthesis\n",
    "      msgService greetService2 = (message) -> System.out.println(\"msg \" + message);\n",
    "\n",
    "      greetService1.sayMessage(\"Helloo\");\n",
    "      greetService2.sayMessage(\"Anonim..\");\n",
    "   }\n",
    "\n",
    "   interface operasiPerhitungan {\n",
    "      int operation(int a, int b);\n",
    "   }\n",
    "\n",
    "   interface msgService {\n",
    "      void sayMessage(String message);\n",
    "   }\n",
    "\n",
    "   private int operate(int a, int b, operasiPerhitungan operasiPerhitungan) {\n",
    "      return operasiPerhitungan.operation(a, b);\n",
    "   }\n",
    "}"
   ]
  },
  {
   "cell_type": "code",
   "execution_count": 3,
   "metadata": {},
   "outputs": [
    {
     "name": "stdout",
     "output_type": "stream",
     "text": [
      "10 + 5 = 15\n",
      "10 - 5 = 5\n",
      "Hello Helloo\n",
      "msg Anonim..\n"
     ]
    },
    {
     "data": {
      "text/plain": [
       "null"
      ]
     },
     "execution_count": 3,
     "metadata": {},
     "output_type": "execute_result"
    }
   ],
   "source": [
    "//Implementasi\n",
    "ContohLambda TestLambda = new ContohLambda();\n",
    "    \n",
    "TestLambda.main();"
   ]
  },
  {
   "cell_type": "markdown",
   "metadata": {},
   "source": [
    "Sintaksis Ekspresi lambda ditandai oleh sintaks berikut.\n",
    "\n",
    "parameter -> expresion body Berikut ini adalah karakteristik penting dari ekspresi lambda.\n",
    "\n",
    "Deklarasi tipe opsional -> Tidak perlu mendeklarasikan tipe parameter. Kompiler dapat mengambil kesimpulan yang sama dari nilai parameter.\n",
    "\n",
    "Tanda kurung opsional di sekitar parameter -> Tidak perlu mendeklarasikan parameter tunggal dalam tanda kurung. Untuk beberapa parameter, tanda kurung diperlukan.\n",
    "\n",
    "Opsional kurung kurawal -> Tidak perlu menggunakan kurung kurawal dalam tubuh ekspresi jika tubuh berisi satu pernyataan.\n",
    "\n",
    "Opsional kata kunci pengembalian -> Kompilator secara otomatis mengembalikan nilai jika tubuh memiliki ekspresi tunggal untuk mengembalikan nilai. Kurva kurawal diperlukan untuk menunjukkan bahwa ekspresi mengembalikan nilai."
   ]
  },
  {
   "cell_type": "markdown",
   "metadata": {},
   "source": [
    "Berikut ini adalah poin penting yang harus dipertimbangkan\n",
    "\n",
    "1. Ekspresi Lambda digunakan terutama untuk mendefinisikan implementasi inline dari antarmuka fungsional, yaitu antarmuka dengan metode tunggal saja. Dalam program di atas, saya telah menggunakan berbagai jenis ekspresi lambda untuk menentukan metode operasi antarmuka OperationPerhitungan. Kemudian saya telah mendefinisikan implementasi sayMessage of msgService.\n",
    "\n",
    "2. Ekspresi Lambda menghilangkan kebutuhan kelas anonim dan memberikan kemampuan pemrograman fungsional yang sangat sederhana namun kuat untuk Java."
   ]
  },
  {
   "cell_type": "markdown",
   "metadata": {},
   "source": [
    "### [Soal 2]\n",
    "\n",
    "Implementasikan ekspresi lambda dari kasus UTS bangun datar anda *(nilai 70)*"
   ]
  },
  {
   "cell_type": "code",
   "execution_count": 5,
   "metadata": {},
   "outputs": [
    {
     "data": {
      "text/plain": [
       "com.twosigma.beaker.javash.bkr0f2d0fcb.ContohLambdaLimas"
      ]
     },
     "execution_count": 5,
     "metadata": {},
     "output_type": "execute_result"
    }
   ],
   "source": [
    "//Implementasi Kode Jawaban :\n",
    "public class ContohLambdaLimas {\n",
    "\n",
    "   public static void main() {\n",
    "      ContohLambdaLimas obj = new ContohLambdaLimas();\n",
    "\n",
    "      //dengan type declaration tanpa kurung kurawal\n",
    "      operasiPerhitungan volume = (int p, int l, int t) -> p * l * t /3;\n",
    "\n",
    "\n",
    "      System.out.println(\"3 * 5 * 7 / 3 = \" + obj.operate(3, 5, 7, volume));\n",
    "\n",
    "      //dengan parenthesis\n",
    "      msgService greetService1 = message -> System.out.println(\"Ini \" + message);\n",
    "\n",
    "      //tanpa parenthesis\n",
    "      msgService greetService2 = (message) -> System.out.println(\"Volume \" + message);\n",
    "\n",
    "      greetService1.sayMessage(\"Limasku\");\n",
    "      greetService2.sayMessage(\"Limasku..\");\n",
    "   }\n",
    "\n",
    "   interface operasiPerhitungan {\n",
    "      int operation(int p, int l, int t);\n",
    "   }\n",
    "\n",
    "   interface msgService {\n",
    "      void sayMessage(String message);\n",
    "   }\n",
    "\n",
    "   private int operate(int p, int l, int t, operasiPerhitungan operasiPerhitungan) {\n",
    "      return operasiPerhitungan.operation(p, l, t);\n",
    "   }\n",
    "}\n"
   ]
  },
  {
   "cell_type": "code",
   "execution_count": 6,
   "metadata": {},
   "outputs": [
    {
     "name": "stdout",
     "output_type": "stream",
     "text": [
      "3 * 5 * 7 / 3 = 35\n",
      "Ini Limasku\n",
      "Volume Limasku..\n"
     ]
    },
    {
     "data": {
      "text/plain": [
       "null"
      ]
     },
     "execution_count": 6,
     "metadata": {},
     "output_type": "execute_result"
    }
   ],
   "source": [
    "//Implementasi\n",
    "ContohLambdaLimas TestLambdaLimas = new ContohLambdaLimas();\n",
    "    \n",
    "TestLambdaLimas.main();"
   ]
  },
  {
   "cell_type": "markdown",
   "metadata": {},
   "source": [
    "Penjelasan Program \n"
   ]
  },
  {
   "cell_type": "markdown",
   "metadata": {},
   "source": [
    "Kelas turunan (subclass) akan mewarisi (inherit) data field (properti atau atribut) dan metoda terakses (accessible method) yang dimiliki oleh superclass. Konsep turunan akan menjadikan superclass mempunyai sifat yang lebih umum (general), sedangkan kelas turunannya akan mempunyai sifat yang lebih spesifik. Kelas turunan dapat didefinisikan lebih cepat dengan memanfaatkan kelas yang ada. Bila definisi kelas turunan berasal dari superclass yang berada di paket berbeda, Mengimpor kelas tersebut terlebih dahulu dengan menggunakan kata kunci import. Bila superclass berada di paket yang sama dengan subclass yang didefinisikan,tidak perlu untuk mengimport superclass. Kelas sebaiknya dikelompokkan menurut jenis dan fungsinya dan diletakkan di nama paket yang menggambarkan kelas tersebut. Kata kunci extends digunakan untuk mendeklarasikan kelas turunan (subclass) dari kelas atasnya (superclass). Dengan kata kunci extends, kelas turunan akan mewarisi data field dan metoda yang dimiliki oleh kelas di atasnya.\n",
    "\n",
    "Program diatas adalah contoh program sederhana untuk menghitung volume dan luas alas dari sebuah bangun ruang yaitu Limas segi 4, menggunakan paradigma berorientasi objek,dimana sebuah objek bernama \"Limas” terlebih dahulu akan dibuat dan di dalam objek kubus tersebut terdapat variables dan methods yang berguna untuk melakukan perhitungan volume dan sebagainya. Kemudian pada main method, hanya dilakukan pemanggilan metode-metode.\n",
    "\n",
    "Langkah pembuatan program bermula dengan pembuatan class dilanjut dengan membuat atribut yang pertama dengan tipe integer volume yang akan dicari, dilanjut membuat methode dengan menginputkan panjang ,lebar dan tinggi disertai penulisan rumus volume bangun tersebut , selanjutnya pembuatan atribut baru untuk menghitung luas alas bangun tersebut dengan menginputkan nilai/variabel yang dibutuhkan,"
   ]
  },
  {
   "cell_type": "markdown",
   "metadata": {},
   "source": [
    "Hamdan Syukron Lillah\n",
    "\n",
    "UAS JAVA Selesai"
   ]
  }
 ],
 "metadata": {
  "kernelspec": {
   "display_name": "Java",
   "language": "java",
   "name": "java"
  },
  "language_info": {
   "codemirror_mode": "text/x-java",
   "file_extension": ".java",
   "mimetype": "",
   "name": "Java",
   "nbconverter_exporter": "",
   "version": "1.8.0_121"
  },
  "toc": {
   "base_numbering": 1,
   "nav_menu": {},
   "number_sections": false,
   "sideBar": false,
   "skip_h1_title": false,
   "title_cell": "Table of Contents",
   "title_sidebar": "Contents",
   "toc_cell": false,
   "toc_position": {},
   "toc_section_display": false,
   "toc_window_display": false
  }
 },
 "nbformat": 4,
 "nbformat_minor": 4
}
